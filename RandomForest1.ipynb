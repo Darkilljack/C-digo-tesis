{
 "cells": [
  {
   "cell_type": "code",
   "execution_count": null,
   "id": "d18d146e-3f09-4306-a1ae-881f7b73eff6",
   "metadata": {
    "tags": []
   },
   "outputs": [],
   "source": []
  },
  {
   "cell_type": "markdown",
   "id": "ff8c580e-5d11-453e-b387-5559c56af065",
   "metadata": {
    "tags": []
   },
   "source": [
    "# RandomFores"
   ]
  },
  {
   "cell_type": "markdown",
   "id": "7e98a41f-491a-47e6-a5f8-5bf33673286c",
   "metadata": {
    "tags": []
   },
   "source": [
    "## Estado Planctónico Vs biofilm de Cepas de *S. aureus* [BAA-44, ATCC 29213 y ATCC 43300] Extración de Proteínas [AF:ACN] ##"
   ]
  },
  {
   "cell_type": "code",
   "execution_count": 39,
   "id": "d13f2421-ad3c-4e87-93c6-a147e2a52903",
   "metadata": {
    "tags": []
   },
   "outputs": [],
   "source": [
    "import pandas as pd\n",
    "import seaborn as sns\n",
    "import numpy as np\n",
    "import matplotlib.pyplot as plt\n",
    "%matplotlib inline\n",
    "from sklearn.decomposition import PCA\n",
    "from sklearn import preprocessing\n",
    "from sklearn.svm import SVC\n",
    "from sklearn.model_selection import train_test_split\n",
    "from sklearn.model_selection import GridSearchCV\n",
    "from sklearn.metrics import accuracy_score\n",
    "from sklearn.metrics import explained_variance_score, mean_absolute_error, mean_squared_error, r2_score"
   ]
  },
  {
   "cell_type": "markdown",
   "id": "a582115d-1314-4c2a-9427-7c73683bd67d",
   "metadata": {
    "tags": []
   },
   "source": [
    "# Etracción 1 #"
   ]
  },
  {
   "cell_type": "code",
   "execution_count": 40,
   "id": "725e4394-026b-4829-a48e-18427dc0c336",
   "metadata": {
    "tags": []
   },
   "outputs": [],
   "source": [
    "import glob\n",
    "fn = []\n",
    "all_MS = pd.DataFrame()\n",
    "#nombres=['MF']\n",
    "for f in glob.glob(\"C:/Users/Usuario/OneDrive - UNIVERSIDAD INDUSTRIAL DE SANTANDER/Documents/Analisis_Datos_Quimica-main/Datos plan B/29213-43300/Extracción 1/*.txt\"):\n",
    "    df = pd.read_csv(f, header=None, delimiter=' ' )\n",
    "    all_MS = pd.concat([all_MS, df], axis=1)\n",
    "    fn.append(f) # Guardamos parte del nombre del archivo como una etiqueta de cada muestra\n",
    "Datamz = all_MS[0] # realciones m/z\n",
    "Data = all_MS[1] # Intensidades"
   ]
  },
  {
   "cell_type": "code",
   "execution_count": 41,
   "id": "abe2f2de-3748-47cf-86db-9bd868291776",
   "metadata": {
    "tags": []
   },
   "outputs": [],
   "source": [
    "DataIn=Data[0:20480]\n",
    "DataIn.columns=range(DataIn.shape[1])\n",
    "DataMz=Datamz[0:20480]\n",
    "DataMz.columns=range(DataMz.shape[1])"
   ]
  },
  {
   "cell_type": "code",
   "execution_count": 42,
   "id": "4290eb98-5c82-4c99-8a8b-caaeddfd59cd",
   "metadata": {
    "tags": []
   },
   "outputs": [],
   "source": [
    "EtPlanct = pd.read_excel('C:/Users/Usuario/OneDrive - UNIVERSIDAD INDUSTRIAL DE SANTANDER/Documents/Analisis_Datos_Quimica-main/Datos plan B/29213-43300/Extracción 1/Etiquetas.xlsx', sheet_name=0, header=None)\n",
    "\n",
    "Y=EtPlanct[[2]]\n",
    "Y1=pd.DataFrame(Y.set_axis(axis=1, labels=['Estado']))"
   ]
  },
  {
   "cell_type": "markdown",
   "id": "61a3b6ad-1cf4-44b7-8ac9-819a46491c6b",
   "metadata": {
    "tags": []
   },
   "source": [
    "### Análisis de Componentes Principales ###"
   ]
  },
  {
   "cell_type": "code",
   "execution_count": 43,
   "id": "3430795d-d684-458e-8e3b-3ad9aa89414b",
   "metadata": {
    "tags": []
   },
   "outputs": [
    {
     "name": "stdout",
     "output_type": "stream",
     "text": [
      "shape of datos_pca (40, 10)\n",
      "[0.55587292 0.1309026  0.07498316 0.05933636 0.04250251 0.02570415\n",
      " 0.01996444 0.01850123 0.01352907 0.01165986]\n",
      "suma: 0.9529563070749605\n"
     ]
    }
   ],
   "source": [
    "from sklearn.preprocessing import StandardScaler, Normalizer\n",
    "scaler=StandardScaler()\n",
    "scaler.fit(DataIn) # calculo la media para poder hacer la transformacion\n",
    "x_scaled=scaler.transform(DataIn)# Ahora si, escalo los datos y los normalizo\n",
    "\n",
    "pca=PCA(n_components=10) # Otra opción es hacer pca hasta obtener un mínimo explicado ej.: pca=PCA(.85)\n",
    "pca1=pca.fit(x_scaled.T) # obtener los componentes principales\n",
    "datos_pca=pca.transform(x_scaled.T) # convertimos nuestros datos con las nuevas dimensiones de PCA, scores\n",
    "\n",
    "#out = pca.fit_transform(valtn) # otra opción\n",
    "\n",
    "# Esta celda es para observar la varianza explicada con 5 componentes, se podría variar a los que se quisiese\n",
    "print(\"shape of datos_pca\", datos_pca.shape)\n",
    "expl = pca.explained_variance_ratio_\n",
    "print(expl)\n",
    "print('suma:',sum(expl[0:10]))\n",
    "#Vemos que con 5 componentes tenemos algo mas del 85% de varianza explicada\n",
    "datos_pca1=pd.DataFrame(datos_pca) # Convierte los datos pca en un DataFrame\n",
    "datos_pca1=pd.concat([Y1, datos_pca1] ,axis=1) # Se agrega la columna del tipo de muestra"
   ]
  },
  {
   "cell_type": "code",
   "execution_count": 32,
   "id": "154ea18f-d0f3-440b-89fa-fe9973e11404",
   "metadata": {
    "tags": []
   },
   "outputs": [
    {
     "data": {
      "text/html": [
       "<div>\n",
       "<style scoped>\n",
       "    .dataframe tbody tr th:only-of-type {\n",
       "        vertical-align: middle;\n",
       "    }\n",
       "\n",
       "    .dataframe tbody tr th {\n",
       "        vertical-align: top;\n",
       "    }\n",
       "\n",
       "    .dataframe thead th {\n",
       "        text-align: right;\n",
       "    }\n",
       "</style>\n",
       "<table border=\"1\" class=\"dataframe\">\n",
       "  <thead>\n",
       "    <tr style=\"text-align: right;\">\n",
       "      <th></th>\n",
       "      <th>PC1</th>\n",
       "      <th>PC2</th>\n",
       "      <th>PC3</th>\n",
       "      <th>PC4</th>\n",
       "      <th>PC5</th>\n",
       "      <th>PC6</th>\n",
       "      <th>PC7</th>\n",
       "      <th>PC8</th>\n",
       "      <th>PC9</th>\n",
       "      <th>PC10</th>\n",
       "    </tr>\n",
       "  </thead>\n",
       "  <tbody>\n",
       "    <tr>\n",
       "      <th>0</th>\n",
       "      <td>-43.760700</td>\n",
       "      <td>-13.261182</td>\n",
       "      <td>22.522263</td>\n",
       "      <td>-17.386749</td>\n",
       "      <td>8.015201</td>\n",
       "      <td>0.371894</td>\n",
       "      <td>1.578002</td>\n",
       "      <td>-3.499896</td>\n",
       "      <td>-6.546448</td>\n",
       "      <td>-2.033958</td>\n",
       "    </tr>\n",
       "    <tr>\n",
       "      <th>1</th>\n",
       "      <td>-44.541320</td>\n",
       "      <td>-15.086721</td>\n",
       "      <td>19.075000</td>\n",
       "      <td>-14.340618</td>\n",
       "      <td>5.743592</td>\n",
       "      <td>0.099351</td>\n",
       "      <td>-0.683324</td>\n",
       "      <td>-1.253552</td>\n",
       "      <td>-8.903052</td>\n",
       "      <td>-1.990700</td>\n",
       "    </tr>\n",
       "    <tr>\n",
       "      <th>2</th>\n",
       "      <td>-42.121688</td>\n",
       "      <td>-9.274356</td>\n",
       "      <td>33.307586</td>\n",
       "      <td>-20.937860</td>\n",
       "      <td>7.142368</td>\n",
       "      <td>0.858801</td>\n",
       "      <td>0.353937</td>\n",
       "      <td>1.560631</td>\n",
       "      <td>-1.994908</td>\n",
       "      <td>-0.224989</td>\n",
       "    </tr>\n",
       "    <tr>\n",
       "      <th>3</th>\n",
       "      <td>-44.284669</td>\n",
       "      <td>-18.206642</td>\n",
       "      <td>-7.523964</td>\n",
       "      <td>-0.133762</td>\n",
       "      <td>2.204154</td>\n",
       "      <td>-0.521507</td>\n",
       "      <td>3.927066</td>\n",
       "      <td>-8.338902</td>\n",
       "      <td>-4.969331</td>\n",
       "      <td>-2.598823</td>\n",
       "    </tr>\n",
       "    <tr>\n",
       "      <th>4</th>\n",
       "      <td>-41.274648</td>\n",
       "      <td>-3.229088</td>\n",
       "      <td>-18.496507</td>\n",
       "      <td>12.551598</td>\n",
       "      <td>-5.498787</td>\n",
       "      <td>1.586841</td>\n",
       "      <td>-5.072501</td>\n",
       "      <td>6.974346</td>\n",
       "      <td>12.269553</td>\n",
       "      <td>4.361897</td>\n",
       "    </tr>\n",
       "  </tbody>\n",
       "</table>\n",
       "</div>"
      ],
      "text/plain": [
       "         PC1        PC2        PC3        PC4       PC5       PC6       PC7  \\\n",
       "0 -43.760700 -13.261182  22.522263 -17.386749  8.015201  0.371894  1.578002   \n",
       "1 -44.541320 -15.086721  19.075000 -14.340618  5.743592  0.099351 -0.683324   \n",
       "2 -42.121688  -9.274356  33.307586 -20.937860  7.142368  0.858801  0.353937   \n",
       "3 -44.284669 -18.206642  -7.523964  -0.133762  2.204154 -0.521507  3.927066   \n",
       "4 -41.274648  -3.229088 -18.496507  12.551598 -5.498787  1.586841 -5.072501   \n",
       "\n",
       "        PC8        PC9      PC10  \n",
       "0 -3.499896  -6.546448 -2.033958  \n",
       "1 -1.253552  -8.903052 -1.990700  \n",
       "2  1.560631  -1.994908 -0.224989  \n",
       "3 -8.338902  -4.969331 -2.598823  \n",
       "4  6.974346  12.269553  4.361897  "
      ]
     },
     "execution_count": 32,
     "metadata": {},
     "output_type": "execute_result"
    }
   ],
   "source": [
    "scores_df = pd.DataFrame(datos_pca, columns = [f\"PC{i+1}\" for i in range(datos_pca.shape[1])])\n",
    "scores_df.head()"
   ]
  },
  {
   "cell_type": "code",
   "execution_count": 44,
   "id": "deccb9dd-d25e-4ce8-94c3-ddac0ea704d2",
   "metadata": {
    "tags": []
   },
   "outputs": [],
   "source": [
    "from sklearn.preprocessing import OrdinalEncoder\n",
    "from sklearn.preprocessing import OneHotEncoder\n",
    "\n",
    "encoder = OrdinalEncoder()\n",
    "encoder.fit(Y1[['Estado']])\n",
    "Y1_code = encoder.transform (Y1[['Estado']])\n",
    "Y1_code = pd.DataFrame(Y1_code)"
   ]
  },
  {
   "cell_type": "code",
   "execution_count": 45,
   "id": "3971ebb8-097e-4a22-8945-3dab3a22c1be",
   "metadata": {
    "tags": []
   },
   "outputs": [
    {
     "data": {
      "text/plain": [
       "(40, 1)"
      ]
     },
     "execution_count": 45,
     "metadata": {},
     "output_type": "execute_result"
    }
   ],
   "source": [
    "Y1_code.shape"
   ]
  },
  {
   "cell_type": "code",
   "execution_count": 47,
   "id": "15b38bb1-bbf6-404c-a732-9af1ad9be495",
   "metadata": {
    "tags": []
   },
   "outputs": [
    {
     "name": "stdout",
     "output_type": "stream",
     "text": [
      "Puntuaciones de cada fold: [1.         1.         0.33333333 0.8       ]\n",
      "Puntuación media: 0.7833333333333334\n",
      "Desviación estándar de las puntuaciones: 0.2723355773061365\n"
     ]
    }
   ],
   "source": [
    "from sklearn.ensemble import RandomForestClassifier\n",
    "from sklearn.model_selection import cross_val_score, KFold, cross_val_predict\n",
    "from sklearn.metrics import accuracy_score, confusion_matrix, classification_report\n",
    "\n",
    "modeloRf = RandomForestClassifier(n_estimators=100, random_state=113)\n",
    "kf = KFold(n_splits=4, shuffle=True, random_state=123)\n",
    "\n",
    "puntuaciones = cross_val_score(modeloRf, x_scaled.T, Y1_code.values.ravel(), cv=kf, scoring='f1')\n",
    "\n",
    "# Imprime las puntuaciones obtenidas en cada fold\n",
    "print(\"Puntuaciones de cada fold:\", puntuaciones)\n",
    "\n",
    "# Imprime la puntuación media y su desviación estándar\n",
    "print(\"Puntuación media:\", np.mean(puntuaciones))\n",
    "print(\"Desviación estándar de las puntuaciones:\", np.std(puntuaciones))\n"
   ]
  },
  {
   "cell_type": "code",
   "execution_count": 36,
   "id": "a856797f-aad2-4818-9582-f7a759b938f1",
   "metadata": {
    "tags": []
   },
   "outputs": [
    {
     "name": "stdout",
     "output_type": "stream",
     "text": [
      "[[25  0]\n",
      " [ 6  9]]\n",
      "              precision    recall  f1-score   support\n",
      "\n",
      "         0.0       0.81      1.00      0.89        25\n",
      "         1.0       1.00      0.60      0.75        15\n",
      "\n",
      "    accuracy                           0.85        40\n",
      "   macro avg       0.90      0.80      0.82        40\n",
      "weighted avg       0.88      0.85      0.84        40\n",
      "\n"
     ]
    }
   ],
   "source": [
    "# Ahora, puedes obtener el reporte de clasificación promediado sobre los folds\n",
    "y_pred_cv = cross_val_predict(modeloRf, x_scaled.T, Y1_code.values.ravel(), cv=kf)\n",
    "Matriz = confusion_matrix(Y1_code, y_pred_cv)\n",
    "Reporte = classification_report(Y1_code, y_pred_cv)\n",
    "\n",
    "print(Matriz)\n",
    "print(Reporte)"
   ]
  },
  {
   "cell_type": "code",
   "execution_count": 38,
   "id": "a695d70a-b180-4bcd-a920-edf27507ac8e",
   "metadata": {
    "tags": []
   },
   "outputs": [
    {
     "data": {
      "image/png": "[encoded data removed]",
      "text/plain": [
       "<Figure size 500x500 with 2 Axes>"
      ]
     },
     "metadata": {},
     "output_type": "display_data"
    }
   ],
   "source": [
    "# Colores personalizados\n",
    "cmap = sns.light_palette(\"seagreen\", as_cmap=True)\n",
    "\n",
    "# Crea un mapa de calor (heatmap) con Seaborn\n",
    "plt.figure(figsize=(5, 5))\n",
    "sns.set(font_scale=1.2)  # Ajusta el tamaño de la fuente\n",
    "\n",
    "# Ajusta el tamaño de fuente y otros atributos de texto dentro de la matriz\n",
    "annot_kws = {\"size\": 28, \"color\": \"black\"}\n",
    "\n",
    "sns.heatmap(Matriz, annot=True, fmt='d', cmap=cmap, cbar=True, square=True,\n",
    "            xticklabels=['Biofilm', 'Planctónico'],\n",
    "            yticklabels=['Biofilm', 'Planctónico'], linewidths=1, linecolor='gray',\n",
    "            annot_kws=annot_kws)  # Aplica las configuraciones de annot_kws\n",
    "\n",
    "plt.xlabel('Etiquetas Predichas', fontsize=16, color='purple')\n",
    "plt.ylabel('Etiquetas Verdaderas', fontsize=16, color='purple')\n",
    "plt.title('Matriz de Confusión', fontsize=16, color='black')\n",
    "plt.savefig('Matriz Rf1', dpi=300)\n",
    "\n",
    "plt.show()"
   ]
  },
  {
   "cell_type": "code",
   "execution_count": null,
   "id": "c7b346ff-b310-4a3f-b878-34e422508e4d",
   "metadata": {},
   "outputs": [],
   "source": []
  }
 ],
 "metadata": {
  "kernelspec": {
   "display_name": "Python 3 (ipykernel)",
   "language": "python",
   "name": "python3"
  },
  "language_info": {
   "codemirror_mode": {
    "name": "ipython",
    "version": 3
   },
   "file_extension": ".py",
   "mimetype": "text/x-python",
   "name": "python",
   "nbconvert_exporter": "python",
   "pygments_lexer": "ipython3",
   "version": "3.11.5"
  }
 },
 "nbformat": 4,
 "nbformat_minor": 5
}
