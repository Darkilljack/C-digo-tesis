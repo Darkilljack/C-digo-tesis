{
 "cells": [
  {
   "cell_type": "markdown",
   "id": "84aa3906-5206-4a24-9282-0dbc7dfd2ebd",
   "metadata": {
    "tags": []
   },
   "source": [
    "# XGBClassifier"
   ]
  },
  {
   "cell_type": "markdown",
   "id": "92bc5465-dfb2-42f9-89ac-fe49d9ed5e1a",
   "metadata": {
    "tags": []
   },
   "source": [
    "## Estado Planctónico Vs biofilm de Cepas de *S. aureus* [BAA-44, ATCC 29213 y ATCC 43300] Extración de Proteínas [AF:ACN] ##"
   ]
  },
  {
   "cell_type": "code",
   "execution_count": 38,
   "id": "0bf7404d-1788-4382-869d-7a8f288eda3a",
   "metadata": {
    "tags": []
   },
   "outputs": [],
   "source": [
    "import pandas as pd\n",
    "import seaborn as sns\n",
    "import numpy as np\n",
    "import matplotlib.pyplot as plt\n",
    "%matplotlib inline\n",
    "from sklearn.decomposition import PCA\n",
    "from sklearn import preprocessing\n",
    "from sklearn.svm import SVC\n",
    "from sklearn.model_selection import train_test_split\n",
    "from sklearn.model_selection import GridSearchCV\n",
    "from sklearn.metrics import accuracy_score\n",
    "from sklearn.metrics import explained_variance_score, mean_absolute_error, mean_squared_error, r2_score"
   ]
  },
  {
   "cell_type": "markdown",
   "id": "54c82605-fc5d-41f5-8ca1-8dfe37b0d7f5",
   "metadata": {
    "tags": []
   },
   "source": [
    "# Etracción 1 #"
   ]
  },
  {
   "cell_type": "code",
   "execution_count": 39,
   "id": "bced813c-6f4b-4ecf-8446-b1be933fcc00",
   "metadata": {
    "tags": []
   },
   "outputs": [],
   "source": [
    "import glob\n",
    "fn = []\n",
    "all_MS = pd.DataFrame()\n",
    "#nombres=['MF']\n",
    "for f in glob.glob(\"C:/Users/Usuario/OneDrive - UNIVERSIDAD INDUSTRIAL DE SANTANDER/Documents/Analisis_Datos_Quimica-main/Datos plan B/29213-43300/Extracción 1/*.txt\"):\n",
    "    df = pd.read_csv(f, header=None, delimiter=' ' )\n",
    "    all_MS = pd.concat([all_MS, df], axis=1)\n",
    "    fn.append(f) # Guardamos parte del nombre del archivo como una etiqueta de cada muestra\n",
    "Datamz = all_MS[0] # realciones m/z\n",
    "Data = all_MS[1] # Intensidades"
   ]
  },
  {
   "cell_type": "code",
   "execution_count": 40,
   "id": "f6839ce4-ee87-490e-919c-755f220b32f9",
   "metadata": {
    "tags": []
   },
   "outputs": [],
   "source": [
    "DataIn=Data[0:20480]\n",
    "DataIn.columns=range(DataIn.shape[1])\n",
    "DataMz=Datamz[0:20480]\n",
    "DataMz.columns=range(DataMz.shape[1])"
   ]
  },
  {
   "cell_type": "code",
   "execution_count": 41,
   "id": "ea6c6f93-3a78-4a96-9860-0936d8aa7592",
   "metadata": {
    "tags": []
   },
   "outputs": [],
   "source": [
    "EtPlanct = pd.read_excel('C:/Users/Usuario/OneDrive - UNIVERSIDAD INDUSTRIAL DE SANTANDER/Documents/Analisis_Datos_Quimica-main/Datos plan B/29213-43300/Extracción 1/Etiquetas.xlsx', sheet_name=0, header=None)\n",
    "\n",
    "Y=EtPlanct[[2]]\n",
    "Y1=pd.DataFrame(Y.set_axis(axis=1, labels=['Estado']))"
   ]
  },
  {
   "cell_type": "markdown",
   "id": "0d2da64f-b821-4083-bcdb-e33202d322d5",
   "metadata": {
    "tags": []
   },
   "source": [
    "### Análisis de Componentes Principales ###"
   ]
  },
  {
   "cell_type": "code",
   "execution_count": 42,
   "id": "10830bda-7014-436f-b70d-91fc73986b47",
   "metadata": {
    "tags": []
   },
   "outputs": [
    {
     "name": "stdout",
     "output_type": "stream",
     "text": [
      "shape of datos_pca (40, 10)\n",
      "[0.55587292 0.1309026  0.07498316 0.05933636 0.04250251 0.02570415\n",
      " 0.01996444 0.01850123 0.01352907 0.01165986]\n",
      "suma: 0.9529563070794014\n"
     ]
    }
   ],
   "source": [
    "from sklearn.preprocessing import StandardScaler, Normalizer\n",
    "scaler=StandardScaler()\n",
    "scaler.fit(DataIn) # calculo la media para poder hacer la transformacion\n",
    "x_scaled=scaler.transform(DataIn)# Ahora si, escalo los datos y los normalizo\n",
    "\n",
    "pca=PCA(n_components=10) # Otra opción es hacer pca hasta obtener un mínimo explicado ej.: pca=PCA(.85)\n",
    "pca1=pca.fit(x_scaled.T) # obtener los componentes principales\n",
    "datos_pca=pca.transform(x_scaled.T) # convertimos nuestros datos con las nuevas dimensiones de PCA, scores\n",
    "\n",
    "#out = pca.fit_transform(valtn) # otra opción\n",
    "\n",
    "# Esta celda es para observar la varianza explicada con 5 componentes, se podría variar a los que se quisiese\n",
    "print(\"shape of datos_pca\", datos_pca.shape)\n",
    "expl = pca.explained_variance_ratio_\n",
    "print(expl)\n",
    "print('suma:',sum(expl[0:10]))\n",
    "#Vemos que con 5 componentes tenemos algo mas del 85% de varianza explicada\n",
    "datos_pca1=pd.DataFrame(datos_pca) # Convierte los datos pca en un DataFrame\n",
    "datos_pca1=pd.concat([Y1, datos_pca1] ,axis=1) # Se agrega la columna del tipo de muestra"
   ]
  },
  {
   "cell_type": "code",
   "execution_count": 31,
   "id": "3b7b98b5-d57d-4b8b-9ac7-7739dcc9ea78",
   "metadata": {
    "tags": []
   },
   "outputs": [
    {
     "data": {
      "text/html": [
       "<div>\n",
       "<style scoped>\n",
       "    .dataframe tbody tr th:only-of-type {\n",
       "        vertical-align: middle;\n",
       "    }\n",
       "\n",
       "    .dataframe tbody tr th {\n",
       "        vertical-align: top;\n",
       "    }\n",
       "\n",
       "    .dataframe thead th {\n",
       "        text-align: right;\n",
       "    }\n",
       "</style>\n",
       "<table border=\"1\" class=\"dataframe\">\n",
       "  <thead>\n",
       "    <tr style=\"text-align: right;\">\n",
       "      <th></th>\n",
       "      <th>PC1</th>\n",
       "      <th>PC2</th>\n",
       "      <th>PC3</th>\n",
       "      <th>PC4</th>\n",
       "      <th>PC5</th>\n",
       "      <th>PC6</th>\n",
       "      <th>PC7</th>\n",
       "      <th>PC8</th>\n",
       "      <th>PC9</th>\n",
       "      <th>PC10</th>\n",
       "    </tr>\n",
       "  </thead>\n",
       "  <tbody>\n",
       "    <tr>\n",
       "      <th>0</th>\n",
       "      <td>-43.760700</td>\n",
       "      <td>-13.261182</td>\n",
       "      <td>22.522263</td>\n",
       "      <td>-17.386749</td>\n",
       "      <td>8.015201</td>\n",
       "      <td>0.371894</td>\n",
       "      <td>1.578005</td>\n",
       "      <td>-3.499897</td>\n",
       "      <td>-6.546455</td>\n",
       "      <td>-2.033958</td>\n",
       "    </tr>\n",
       "    <tr>\n",
       "      <th>1</th>\n",
       "      <td>-44.541320</td>\n",
       "      <td>-15.086721</td>\n",
       "      <td>19.075000</td>\n",
       "      <td>-14.340618</td>\n",
       "      <td>5.743592</td>\n",
       "      <td>0.099351</td>\n",
       "      <td>-0.683323</td>\n",
       "      <td>-1.253552</td>\n",
       "      <td>-8.903057</td>\n",
       "      <td>-1.990692</td>\n",
       "    </tr>\n",
       "    <tr>\n",
       "      <th>2</th>\n",
       "      <td>-42.121688</td>\n",
       "      <td>-9.274356</td>\n",
       "      <td>33.307586</td>\n",
       "      <td>-20.937860</td>\n",
       "      <td>7.142367</td>\n",
       "      <td>0.858802</td>\n",
       "      <td>0.353943</td>\n",
       "      <td>1.560630</td>\n",
       "      <td>-1.994912</td>\n",
       "      <td>-0.225004</td>\n",
       "    </tr>\n",
       "    <tr>\n",
       "      <th>3</th>\n",
       "      <td>-44.284669</td>\n",
       "      <td>-18.206642</td>\n",
       "      <td>-7.523964</td>\n",
       "      <td>-0.133762</td>\n",
       "      <td>2.204155</td>\n",
       "      <td>-0.521508</td>\n",
       "      <td>3.927062</td>\n",
       "      <td>-8.338901</td>\n",
       "      <td>-4.969335</td>\n",
       "      <td>-2.598797</td>\n",
       "    </tr>\n",
       "    <tr>\n",
       "      <th>4</th>\n",
       "      <td>-41.274648</td>\n",
       "      <td>-3.229088</td>\n",
       "      <td>-18.496507</td>\n",
       "      <td>12.551598</td>\n",
       "      <td>-5.498788</td>\n",
       "      <td>1.586843</td>\n",
       "      <td>-5.072504</td>\n",
       "      <td>6.974345</td>\n",
       "      <td>12.269577</td>\n",
       "      <td>4.361850</td>\n",
       "    </tr>\n",
       "  </tbody>\n",
       "</table>\n",
       "</div>"
      ],
      "text/plain": [
       "         PC1        PC2        PC3        PC4       PC5       PC6       PC7  \\\n",
       "0 -43.760700 -13.261182  22.522263 -17.386749  8.015201  0.371894  1.578005   \n",
       "1 -44.541320 -15.086721  19.075000 -14.340618  5.743592  0.099351 -0.683323   \n",
       "2 -42.121688  -9.274356  33.307586 -20.937860  7.142367  0.858802  0.353943   \n",
       "3 -44.284669 -18.206642  -7.523964  -0.133762  2.204155 -0.521508  3.927062   \n",
       "4 -41.274648  -3.229088 -18.496507  12.551598 -5.498788  1.586843 -5.072504   \n",
       "\n",
       "        PC8        PC9      PC10  \n",
       "0 -3.499897  -6.546455 -2.033958  \n",
       "1 -1.253552  -8.903057 -1.990692  \n",
       "2  1.560630  -1.994912 -0.225004  \n",
       "3 -8.338901  -4.969335 -2.598797  \n",
       "4  6.974345  12.269577  4.361850  "
      ]
     },
     "execution_count": 31,
     "metadata": {},
     "output_type": "execute_result"
    }
   ],
   "source": [
    "scores_df = pd.DataFrame(datos_pca, columns = [f\"PC{i+1}\" for i in range(datos_pca.shape[1])])\n",
    "scores_df.head()"
   ]
  },
  {
   "cell_type": "code",
   "execution_count": 43,
   "id": "dd975848-365c-41d8-a7b4-ca484dce4e41",
   "metadata": {
    "tags": []
   },
   "outputs": [],
   "source": [
    "from sklearn.preprocessing import OrdinalEncoder\n",
    "from sklearn.preprocessing import OneHotEncoder\n",
    "\n",
    "encoder = OrdinalEncoder()\n",
    "encoder.fit(Y1[['Estado']])\n",
    "Y1_code = encoder.transform (Y1[['Estado']])\n",
    "Y1_code = pd.DataFrame(Y1_code)"
   ]
  },
  {
   "cell_type": "code",
   "execution_count": 44,
   "id": "17b3b602-3f67-4243-a75d-626f7ba1a83f",
   "metadata": {
    "tags": []
   },
   "outputs": [
    {
     "data": {
      "text/plain": [
       "(40, 1)"
      ]
     },
     "execution_count": 44,
     "metadata": {},
     "output_type": "execute_result"
    }
   ],
   "source": [
    "Y1_code.shape"
   ]
  },
  {
   "cell_type": "code",
   "execution_count": 45,
   "id": "68a402af-f8ac-40fb-aa36-0b0d041d2708",
   "metadata": {
    "tags": []
   },
   "outputs": [
    {
     "name": "stdout",
     "output_type": "stream",
     "text": [
      "Puntuaciones de cada fold: [0.66666667 0.5        0.5        0.72727273]\n",
      "Puntuación media: 0.5984848484848484\n",
      "Desviación estándar de las puntuaciones: 0.10078889920947019\n"
     ]
    }
   ],
   "source": [
    "from xgboost import XGBClassifier\n",
    "from sklearn.model_selection import cross_val_score, KFold, cross_val_predict\n",
    "from sklearn.metrics import accuracy_score, confusion_matrix, classification_report\n",
    "\n",
    "modeloXGB = XGBClassifier(random_state=123)\n",
    "kf = KFold(n_splits=4, shuffle=True, random_state=123)\n",
    "\n",
    "puntuaciones = cross_val_score(modeloXGB, x_scaled.T, Y1_code.values.ravel(), cv=kf, scoring='f1')\n",
    "\n",
    "# Imprime las puntuaciones obtenidas en cada fold\n",
    "print(\"Puntuaciones de cada fold:\", puntuaciones)\n",
    "\n",
    "# Imprime la puntuación media y su desviación estándar\n",
    "print(\"Puntuación media:\", np.mean(puntuaciones))\n",
    "print(\"Desviación estándar de las puntuaciones:\", np.std(puntuaciones))\n"
   ]
  },
  {
   "cell_type": "code",
   "execution_count": 36,
   "id": "3e889275-e5c7-4458-81cb-4cc8ef34b43e",
   "metadata": {
    "tags": []
   },
   "outputs": [
    {
     "name": "stdout",
     "output_type": "stream",
     "text": [
      "[[22  3]\n",
      " [ 7  8]]\n",
      "              precision    recall  f1-score   support\n",
      "\n",
      "         0.0       0.76      0.88      0.81        25\n",
      "         1.0       0.73      0.53      0.62        15\n",
      "\n",
      "    accuracy                           0.75        40\n",
      "   macro avg       0.74      0.71      0.72        40\n",
      "weighted avg       0.75      0.75      0.74        40\n",
      "\n"
     ]
    }
   ],
   "source": [
    "# Ahora, puedes obtener el reporte de clasificación promediado sobre los folds\n",
    "y_pred_cv = cross_val_predict(modeloXGB, x_scaled.T, Y1_code.values.ravel(), cv=kf)\n",
    "Matriz = confusion_matrix(Y1_code, y_pred_cv)\n",
    "Reporte = classification_report(Y1_code, y_pred_cv)\n",
    "\n",
    "print(Matriz)\n",
    "print(Reporte)"
   ]
  },
  {
   "cell_type": "code",
   "execution_count": 37,
   "id": "3090de2c-aecc-4c3f-9acb-ab70f451807c",
   "metadata": {
    "tags": []
   },
   "outputs": [
    {
     "data": {
      "image/png": "[encoded data removed]",
      "text/plain": [
       "<Figure size 500x500 with 2 Axes>"
      ]
     },
     "metadata": {},
     "output_type": "display_data"
    }
   ],
   "source": [
    "# Colores personalizados\n",
    "cmap = sns.light_palette(\"seagreen\", as_cmap=True)\n",
    "\n",
    "# Crea un mapa de calor (heatmap) con Seaborn\n",
    "plt.figure(figsize=(5, 5))\n",
    "sns.set(font_scale=1.2)  # Ajusta el tamaño de la fuente\n",
    "\n",
    "# Ajusta el tamaño de fuente y otros atributos de texto dentro de la matriz\n",
    "annot_kws = {\"size\": 28, \"color\": \"black\"}\n",
    "\n",
    "sns.heatmap(Matriz, annot=True, fmt='d', cmap=cmap, cbar=True, square=True,\n",
    "            xticklabels=['Biofilm', 'Planctónico'],\n",
    "            yticklabels=['Biofilm', 'Planctónico'], linewidths=1, linecolor='gray',\n",
    "            annot_kws=annot_kws)  # Aplica las configuraciones de annot_kws\n",
    "\n",
    "plt.xlabel('Etiquetas Predichas', fontsize=16, color='purple')\n",
    "plt.ylabel('Etiquetas Verdaderas', fontsize=16, color='purple')\n",
    "plt.title('Matriz de Confusión', fontsize=16, color='black')\n",
    "plt.savefig('Matriz XGB1', dpi=300)\n",
    "\n",
    "plt.show()"
   ]
  },
  {
   "cell_type": "code",
   "execution_count": null,
   "id": "5cece348-3290-41ca-9c6e-cdac6e2c46ea",
   "metadata": {},
   "outputs": [],
   "source": []
  }
 ],
 "metadata": {
  "kernelspec": {
   "display_name": "Python 3 (ipykernel)",
   "language": "python",
   "name": "python3"
  },
  "language_info": {
   "codemirror_mode": {
    "name": "ipython",
    "version": 3
   },
   "file_extension": ".py",
   "mimetype": "text/x-python",
   "name": "python",
   "nbconvert_exporter": "python",
   "pygments_lexer": "ipython3",
   "version": "3.11.5"
  }
 },
 "nbformat": 4,
 "nbformat_minor": 5
}
