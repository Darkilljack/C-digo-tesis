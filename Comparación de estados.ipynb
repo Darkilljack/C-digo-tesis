{
 "cells": [
  {
   "cell_type": "markdown",
   "id": "456f2897-d6b8-4d37-ba01-6688a14092ea",
   "metadata": {},
   "source": [
    "\n",
    "# Análisis del Perfil Molecular de *Staphylococcus aureus* en Estado Plantónico y de *Biofilm* Empleando Espectrometría de Masas MALDI-TOF y Herramientas de Machine Learning \n",
    "---\n",
    "Willy Colan Avendaño\n"
   ]
  },
  {
   "cell_type": "code",
   "execution_count": null,
   "id": "865bf15b-b11d-419d-bcfa-0fe4790a2244",
   "metadata": {},
   "outputs": [],
   "source": []
  },
  {
   "cell_type": "code",
   "execution_count": null,
   "id": "4ab186e4-ab44-4454-bcb2-ef5e39a9dce9",
   "metadata": {},
   "outputs": [],
   "source": [
    "import pandas as pd\n",
    "import seaborn as sns\n",
    "import numpy as np\n",
    "import matplotlib.pyplot as plt\n",
    "%matplotlib inline\n",
    "from sklearn.decomposition import PCA\n",
    "from sklearn import preprocessing\n",
    "from sklearn.preprocessing import StandardScaler, Normalizer\n",
    "from sklearn.metrics import explained_variance_score, mean_absolute_error, mean_squared_error, r2_score"
   ]
  },
  {
   "cell_type": "markdown",
   "id": "b0f49f31-d39d-40d6-9c24-8533225a63b5",
   "metadata": {},
   "source": [
    "### Biofil Vs Planctónico"
   ]
  },
  {
   "cell_type": "markdown",
   "id": "0a9af6c0-febd-4ba5-aac1-c8f239f16012",
   "metadata": {
    "tags": []
   },
   "source": [
    "#### Código de las Extracciones: Ácido Fórmico Acetonitrilo (AF-ACN), Cloroformo - metanol ($HCCl_3$-$MetOH$) y buffer de lisis (BL)"
   ]
  },
  {
   "cell_type": "code",
   "execution_count": null,
   "id": "4ef513bd-02a9-4638-9369-d3cfbd779b88",
   "metadata": {},
   "outputs": [],
   "source": [
    "import glob\n",
    "fn = []\n",
    "all_MS = pd.DataFrame()\n",
    "#nombres=['MF']\n",
    "for f in glob.glob(\"C:/Users/Usuario/OneDrive - UNIVERSIDAD INDUSTRIAL DE SANTANDER/Documents/Analisis_Datos_Quimica-main/Datos plan B/29213-43300/Extracción 1/*.txt\"):\n",
    "    df = pd.read_csv(f, header=None, delimiter=' ' )\n",
    "    all_MS = pd.concat([all_MS, df], axis=1)\n",
    "    fn.append(f) # Guardamos parte del nombre del archivo como una etiqueta de cada muestra\n",
    "Datamz = all_MS[0] # realciones m/z\n",
    "Data = all_MS[1] # Intensidades"
   ]
  },
  {
   "cell_type": "code",
   "execution_count": null,
   "id": "30f6de0e-afed-4323-b7ab-1bef3e84695d",
   "metadata": {},
   "outputs": [],
   "source": [
    "DataIn=Data[0:20480]\n",
    "DataIn.columns=range(DataIn.shape[1])\n",
    "DataMz=Datamz[0:20480]\n",
    "DataMz.columns=range(DataMz.shape[1])"
   ]
  },
  {
   "cell_type": "code",
   "execution_count": null,
   "id": "ae082240-20a6-4e6e-ac36-984a9f97ab00",
   "metadata": {},
   "outputs": [],
   "source": [
    "#previsualización de las señales\n",
    "plt.plot(DataIn);"
   ]
  },
  {
   "cell_type": "code",
   "execution_count": null,
   "id": "1f1405f7-2667-4551-90ab-7878eb981083",
   "metadata": {},
   "outputs": [],
   "source": [
    "#gráfica de todas las señales\n",
    "fig, ax = plt.subplots(figsize=(9,6))\n",
    "\n",
    "plt.rcParams[\"font.family\"] = 'Times New Roman'\n",
    "ax.plot(DataIn, lw=2)\n",
    "ax.set_xlim(0, 20480)\n",
    "ax.set_ylim(0, 250000)\n",
    "ax.set_xlabel('Number of data',  fontsize=16)\n",
    "ax.set_ylabel('Intensity (arb. units)', fontsize=16)\n",
    "fig.savefig(\"todosesp.png\", dpi=200)\n",
    "plt.show()"
   ]
  },
  {
   "cell_type": "code",
   "execution_count": null,
   "id": "539c598a-9488-4d59-bd22-69076721ad00",
   "metadata": {},
   "outputs": [],
   "source": [
    "EtPlanct = pd.read_excel('C:/Users/Usuario/OneDrive - UNIVERSIDAD INDUSTRIAL DE SANTANDER/Documents/Analisis_Datos_Quimica-main/Datos plan B/29213-43300/Extracción 1/Etiquetas.xlsx', sheet_name=0, header=None)\n",
    "\n",
    "Y=EtPlanct[[2]]\n",
    "Y1=pd.DataFrame(Y.set_axis(axis=1, labels=['Estado']))"
   ]
  },
  {
   "cell_type": "code",
   "execution_count": null,
   "id": "657e1d2f-cdd1-4b85-95ef-f74dcf5da5be",
   "metadata": {},
   "outputs": [],
   "source": [
    "\n",
    "scaler=StandardScaler()\n",
    "scaler.fit(DataIn) # calculo la media para poder hacer la transformacion\n",
    "x_scaled=scaler.transform(DataIn)# Ahora si, escalo los datos y los normalizo\n",
    "\n",
    "pca=PCA(n_components=10) # Otra opción es hacer pca hasta obtener un mínimo explicado ej.: pca=PCA(.85)\n",
    "pca1=pca.fit(x_scaled.T) # obtener los componentes principales\n",
    "datos_pca=pca.transform(x_scaled.T) # convertimos nuestros datos con las nuevas dimensiones de PCA, scores\n",
    "\n",
    "\n",
    "\n",
    "print(\"shape of datos_pca\", datos_pca.shape)\n",
    "expl = pca.explained_variance_ratio_\n",
    "print(expl)\n",
    "print('suma:',sum(expl[0:10]))\n",
    "\n",
    "datos_pca1=pd.DataFrame(datos_pca) # Convierte los datos pca en un DataFrame\n",
    "datos_pca1=pd.concat([Y1, datos_pca1] ,axis=1) # Se agrega la columna del tipo de muestra"
   ]
  },
  {
   "cell_type": "code",
   "execution_count": null,
   "id": "854ce0cf-fca4-47a1-8043-6f0781e30043",
   "metadata": {},
   "outputs": [],
   "source": [
    "scores_df = pd.DataFrame(datos_pca, columns = [f\"PC{i+1}\" for i in range(datos_pca.shape[1])])\n",
    "scores_df.head()"
   ]
  },
  {
   "cell_type": "code",
   "execution_count": null,
   "id": "fd13eb99-1297-4bea-8f06-8f83323ba632",
   "metadata": {},
   "outputs": [],
   "source": [
    "from bokeh.io import output_notebook, show, output_file, export_png\n",
    "from bokeh.plotting import figure, show\n",
    "\n",
    "output_notebook()\n",
    "#colormap = {'LB3D': 'red', 'LB7D': 'green', 'LP3D': 'blue', 'LP7D': 'black'}\n",
    "colormap = {'Bio': 'blue', 'Pla': 'red'}\n",
    "colors = [colormap[x] for x in Y1['Estado']]\n",
    "\n",
    "TOOLS=\"hover,crosshair,pan,wheel_zoom,zoom_in,zoom_out,box_zoom,undo,redo,reset,tap,save,box_select,poly_select,lasso_select,\"\n",
    "\n",
    "# Draw a chart\n",
    "p = figure(title='', width=1600, height=1200,\n",
    "           x_axis_label='PCA 1', y_axis_label='PCA 2', toolbar_location=\"above\", tools=TOOLS)\n",
    "p.grid.grid_line_alpha=0.3\n",
    "\n",
    "p.circle(datos_pca1[0], datos_pca1[1],  color=colors, size=40, alpha=0.7)\n",
    "#p.ygrid.band_fill_color = \"olive\"\n",
    "#p.ygrid.band_fill_alpha = 0.1\n",
    "#p.legend.location = \"top_right\"\n",
    "p.grid.visible = True\n",
    "p.title.align = \"center\"\n",
    "p.title.text_font_size = \"20px\"\n",
    "p.axis.axis_label_text_font_size = \"40px\"\n",
    "p.axis.major_label_text_font_size = \"30px\"\n",
    "#p.legend.location = \"top_center\"\n",
    "export_png(p, filename=\"PCA Ext-1.png\")\n",
    "\n",
    "show(p)"
   ]
  },
  {
   "cell_type": "code",
   "execution_count": null,
   "id": "73d4a4d2-a6c5-49fc-a1f5-c75679cc6211",
   "metadata": {},
   "outputs": [],
   "source": [
    "plt.figure(figsize=(10, 6))\n",
    "bars = sns.barplot(x=np.arange(1, len(expl) + 1), y=expl, palette=\"summer\")\n",
    "\n",
    "plt.xlabel(\"Componentes principales\",fontweight='bold',fontsize=12)\n",
    "plt.ylabel(\"Varianza explicada\",fontweight='bold',fontsize=12)\n",
    "plt.savefig('Varianza Ext-1', dpi= 1200)\n",
    "\n",
    "plt.show()"
   ]
  }
 ],
 "metadata": {
  "kernelspec": {
   "display_name": "Python 3 (ipykernel)",
   "language": "python",
   "name": "python3"
  },
  "language_info": {
   "codemirror_mode": {
    "name": "ipython",
    "version": 3
   },
   "file_extension": ".py",
   "mimetype": "text/x-python",
   "name": "python",
   "nbconvert_exporter": "python",
   "pygments_lexer": "ipython3",
   "version": "3.11.5"
  }
 },
 "nbformat": 4,
 "nbformat_minor": 5
}
